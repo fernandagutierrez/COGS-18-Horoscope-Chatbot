{
 "cells": [
  {
   "cell_type": "markdown",
   "metadata": {},
   "source": [
    "# Project Description"
   ]
  },
  {
   "cell_type": "markdown",
   "metadata": {},
   "source": [
    "After listening to Jaime explain his project in class he gave me an idea to do something similar but kind of different. In E2 there was a question with the Chinese New Year and as a mix of Jaime's project and that question I got my project idea. My project will tell someone how compatible they are to another person based on both of the person's astrology sign. It will first tell you what your sign is, then the other persons sign. After that it will print what percentage of compatibility you have. \n",
    "\n"
   ]
  },
  {
   "cell_type": "markdown",
   "metadata": {},
   "source": [
    "## Project Code\n",
    "\n",
    "If it makes sense for your project, you can have code and outputs here in the notebook as well."
   ]
  },
  {
   "cell_type": "code",
   "execution_count": 1,
   "metadata": {},
   "outputs": [],
   "source": [
    "from my_module.functions import *\n",
    "from my_module.test_functions import *"
   ]
  },
  {
   "cell_type": "markdown",
   "metadata": {},
   "source": [
    "### Run code tests"
   ]
  },
  {
   "cell_type": "code",
   "execution_count": 2,
   "metadata": {},
   "outputs": [],
   "source": [
    "run_tests()"
   ]
  },
  {
   "cell_type": "markdown",
   "metadata": {},
   "source": [
    " ### Chat Bot\n",
    "The start_the_chat function begins the chatbot.\n"
   ]
  },
  {
   "cell_type": "code",
   "execution_count": 3,
   "metadata": {},
   "outputs": [
    {
     "name": "stdout",
     "output_type": "stream",
     "text": [
      "Hello, do you want to know your zodiac?\n",
      "Yes\n",
      "What month were you born? \n",
      "September\n",
      "What day were you born? \n",
      "12\n",
      "Your date of birth is September 12\n",
      "Your zodiac sign is Virgo\n",
      "Do you want to know who you are the most and least compatible with? \n",
      "Yes\n",
      "You are most compatible with Scorpio .\n",
      "You are least compatible with Sagittarius .\n",
      "Do you want to exit? \n",
      "Yes\n",
      "Okay, bye!\n"
     ]
    }
   ],
   "source": [
    "start_the_chat()"
   ]
  },
  {
   "cell_type": "markdown",
   "metadata": {},
   "source": [
    "#### Extra Credit (*optional*)\n",
    "\n",
    "Replace all of this text with a brief explanation (~3 sentences) of: \n",
    "1. Your Python Background\n",
    "2. How your project went above and beyond the requirements of the project and/or how you challenged yourself to learn something new with the final project"
   ]
  },
  {
   "cell_type": "markdown",
   "metadata": {},
   "source": [
    "- I had no previous experience with pyton or any type of coding software. \n",
    "- I have struggled with this class, and did not dp too good. So I worked really hard on this project to master everything that I did not do too good in so that this project could be done to the best of my abilites. I think there was a big jump from my first exam to this project. The chatbot assignment was the one I did the worst in so I challenged myself to really learn how chatbots work.\n",
    "\n"
   ]
  }
 ],
 "metadata": {
  "kernelspec": {
   "display_name": "Python 3",
   "language": "python",
   "name": "python3"
  },
  "language_info": {
   "codemirror_mode": {
    "name": "ipython",
    "version": 3
   },
   "file_extension": ".py",
   "mimetype": "text/x-python",
   "name": "python",
   "nbconvert_exporter": "python",
   "pygments_lexer": "ipython3",
   "version": "3.7.6"
  }
 },
 "nbformat": 4,
 "nbformat_minor": 2
}
